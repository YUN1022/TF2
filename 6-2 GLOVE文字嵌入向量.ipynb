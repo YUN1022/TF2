{
 "cells": [
  {
   "cell_type": "code",
   "execution_count": 1,
   "metadata": {},
   "outputs": [],
   "source": [
    "import os\n",
    "\n",
    "imdb_dir = r'D:\\Final\\code\\LAB\\keras\\IMBD_dataset\\aclImdb'\n",
    "train_dir = os.path.join(imdb_dir, 'train')\n",
    "\n",
    "labels = []\n",
    "texts = []\n",
    "\n",
    "for label_type in ['neg', 'pos']:\n",
    "    dir_name = os.path.join(train_dir, label_type)\n",
    "    for fname in os.listdir(dir_name):\n",
    "        if fname[-4:] == '.txt':\n",
    "            f = open(os.path.join(dir_name, fname), encoding = 'utf8')\n",
    "            texts.append(f.read())\n",
    "            f.close()\n",
    "            if label_type == 'neg':\n",
    "                labels.append(0)\n",
    "            else:\n",
    "                labels.append(1)"
   ]
  },
  {
   "cell_type": "code",
   "execution_count": 40,
   "metadata": {},
   "outputs": [
    {
     "name": "stdout",
     "output_type": "stream",
     "text": [
      "25000\n"
     ]
    }
   ],
   "source": [
    "print(len(texts))"
   ]
  },
  {
   "cell_type": "code",
   "execution_count": 3,
   "metadata": {},
   "outputs": [
    {
     "data": {
      "text/plain": [
       "'2.1.0'"
      ]
     },
     "execution_count": 3,
     "metadata": {},
     "output_type": "execute_result"
    }
   ],
   "source": [
    "import tensorflow as tf\n",
    "from tensorflow import keras\n",
    "\n",
    "tf.__version__"
   ]
  },
  {
   "cell_type": "code",
   "execution_count": 29,
   "metadata": {},
   "outputs": [
    {
     "name": "stdout",
     "output_type": "stream",
     "text": [
      "[282, 171, 443, 6416, 45, 3585, 41, 3, 15, 17, 222, 1109, 72, 1803, 1171, 36, 1, 1353, 1366, 2127, 861, 4, 63, 46, 23, 52, 170, 9, 39, 115, 22, 460, 42, 99, 4, 1, 101, 87, 4, 180, 25, 3542, 8, 1, 4446, 2, 108, 23, 1660, 409, 20, 2, 91, 1508, 366, 71, 307, 31, 63, 56, 9, 115, 22, 460, 1, 108, 73, 143, 62, 460, 42, 6, 3, 52, 8448, 7753, 1, 459, 6, 28, 286, 121, 14, 551, 35, 1204, 237, 125, 72, 245, 331, 182, 85, 2, 269, 54, 3586, 4, 3, 4446, 24, 64, 739, 5, 27, 1920, 123, 6416, 428, 50, 73, 23, 69, 523, 1, 289, 95, 224, 4, 11, 3648, 6416, 741, 180, 30, 42, 3542, 73, 23, 562, 134, 7753, 6, 2108, 5, 27, 1, 118, 16, 54, 2538, 38, 54, 1490, 135, 10, 13, 30, 9, 98, 78, 5, 387, 36, 1629, 10, 121, 32, 522, 8]\n"
     ]
    }
   ],
   "source": [
    "from keras.preprocessing.text import Tokenizer\n",
    "from keras.preprocessing.sequence import pad_sequences\n",
    "\n",
    "maxlen=100\n",
    "training_samples=200\n",
    "validation_samples=1000\n",
    "max_words=10000\n",
    "\n",
    "tokenizer=Tokenizer(num_words=10000) #處理10000個最常用單字\n",
    "tokenizer.fit_on_texts(texts)#建立字典\n",
    "sequences=tokenizer.texts_to_sequences(texts)#單字轉換成鍵值\n",
    "\n",
    "print(sequences[0])"
   ]
  },
  {
   "cell_type": "code",
   "execution_count": 41,
   "metadata": {},
   "outputs": [
    {
     "name": "stdout",
     "output_type": "stream",
     "text": [
      "87393\n"
     ]
    }
   ],
   "source": [
    "word_index=tokenizer.word_index #文字與索引的詞彙表\n",
    "print(len(word_index))"
   ]
  },
  {
   "cell_type": "code",
   "execution_count": 6,
   "metadata": {},
   "outputs": [
    {
     "name": "stdout",
     "output_type": "stream",
     "text": [
      "the 1\n",
      "and 2\n",
      "a 3\n",
      "of 4\n",
      "to 5\n",
      "is 6\n",
      "br 7\n",
      "in 8\n",
      "it 9\n",
      "i 10\n"
     ]
    }
   ],
   "source": [
    "j=0\n",
    "for k,v in word_index.items():\n",
    "    if j == 10:\n",
    "        break\n",
    "    j+=1\n",
    "    print(k,v)"
   ]
  },
  {
   "cell_type": "code",
   "execution_count": 7,
   "metadata": {},
   "outputs": [
    {
     "name": "stdout",
     "output_type": "stream",
     "text": [
      "(25000, 100)\n",
      "(25000,)\n"
     ]
    }
   ],
   "source": [
    "import numpy as np\n",
    "data=pad_sequences(sequences,maxlen=maxlen) #取評論的後100個字\n",
    "labels=np.asarray(labels) #標籤張量\n",
    "\n",
    "print(data.shape)\n",
    "print(labels.shape)"
   ]
  },
  {
   "cell_type": "code",
   "execution_count": 8,
   "metadata": {},
   "outputs": [
    {
     "name": "stdout",
     "output_type": "stream",
     "text": [
      "[[  34   44 7576 1414   15    3 4252  514   43   16    3  633  133   12\n",
      "     6    3 1301  459    4 1751  209    3 7693  308    6  676   80   32\n",
      "  2137 1110 3008   31    1  929    4   42 5120  469    9 2665 1751    1\n",
      "   223   55   16   54  828 1318  847  228    9   40   96  122 1484   57\n",
      "   145   36    1  996  141   27  676  122    1  411   59   94 2278  303\n",
      "   772    5    3  837   20    3 1755  646   42  125   71   22  235  101\n",
      "    16   46   49  624   31  702   84  702  378 3493    2 8422   67   27\n",
      "   107 3348]\n",
      " [4311   44  298  234    9   13    3 1319    5  320    8   11   28   55\n",
      "   731 2280  588 1339  269  151   79   28   55  731 2280  844 2105  269\n",
      "  1816  134 2682 1365  844    6  345  114    5   78   47   23  955    4\n",
      "    82 1076 1586    5  165   43   15   96    7    7 4517    6    1   88\n",
      "  1685    4    1  286 4517  105   35  227   10  420    1 1005  493    9\n",
      "    57   45   33   68    3  224  706    1  362 1898  455  149  335  148\n",
      "     3   19   41    3 1702   40 1609   27   11  354   39 1474   31    1\n",
      "  4517 5457]\n",
      " [ 382  635   14  109 1525    1  153   30  294    9   97   52   70   25\n",
      "    74    1  164   34   48   26  884   36    1  153   10   40   89  121\n",
      "     7    7   18   97    9   25   74    1  877   40  614   34   13    1\n",
      "  9654    8  116   16   26  465   50    4   24 1951    2 3734    2 1113\n",
      "     4  306    2   24 6192 6108   71    4 1810   39  229  331   26  112\n",
      "  2338   69   26   13    8  116   16    1 2537    7    7   10   13  682\n",
      "     8   11   17   18   89  852    9   13 2297   15   32  731   35 1906\n",
      "    15  620]]\n"
     ]
    }
   ],
   "source": [
    "print(data[:3])"
   ]
  },
  {
   "cell_type": "code",
   "execution_count": 9,
   "metadata": {},
   "outputs": [],
   "source": [
    "indices = np.arange(data.shape[0])  # 將資料拆分為訓練集和驗證集, 但首先要將資料打散, 因為所處理的資料是有順序性的樣本資料 (負評在前, 然後才是正評)\n",
    "np.random.shuffle(indices)\n",
    "data = data[indices]\n",
    "labels = labels[indices]\n",
    "\n",
    "x_train = data[:training_samples]\n",
    "y_train = labels[:training_samples]\n",
    "x_val = data[training_samples: training_samples + validation_samples]\n",
    "y_val = labels[training_samples: training_samples + validation_samples]"
   ]
  },
  {
   "cell_type": "code",
   "execution_count": 10,
   "metadata": {},
   "outputs": [
    {
     "name": "stdout",
     "output_type": "stream",
     "text": [
      "[[ 372  133   45  229    1   45   11 2878 2979   63  116   65 3774    2\n",
      "  4644 1344  392   30   53   12 2543    2  257    3 1840  248  392   16\n",
      "     9  156 7024    9    5    1   82  179    9  211   54  125   14   70\n",
      "    51    1  129   16    1    8  243  157  354    2 1659 4949  717    7\n",
      "     7 1291 4186    4  261   12    1  518   55    6 5855   71  801 6175\n",
      "    60    6  231   39  326  426    1 4589 3422  134 6006 1957   91  750\n",
      "  6350  695 2965   62  813    2 3607 1264   77 1173  117   54  448   89\n",
      "   434   55]\n",
      " [  65 1827    8 2934   39 1197    1  748    8 6124    7    7   47   23\n",
      "    50 7953   18    1 8103  678 5819   15  896  854   77   21 1737   69\n",
      "     5 1025   29    4   95   35   10   77  488   16    1  210  109   90\n",
      "    12   10  158  355   11   17   14    3  548    4  189   10  101    9\n",
      "  1870  257  107    1  201  198    2   99 6881   23  137 1083   10   13\n",
      "  1379   15  139    3  173  125   71   11    7    7    1  201   13    3\n",
      "   173   50 3487    2 4542   71   11  409  202 3678    2  195  658    9\n",
      "  1779 4586]\n",
      " [1345   43   31   86 3626   33  465    5   27   31    1  226  801  430\n",
      "     6   12   42 6588   37   32  387    4 6160 4574   10   89  121   34\n",
      "    11  164 1287   26    6  276   26   44    4    1 2424   37  521   18\n",
      "     1  436    6   12   29    4    1 1044  904 2441    3  646    4 7539\n",
      "    12    6 5952 1883  130   10   97  388    1    4   11   19   41  744\n",
      "   150  594   18   51 1995  185 4881  138   14   75 1392 2388    2  120\n",
      "    69  116  135 1409   16   11 1357 6447   47    6  161  159    5   27\n",
      "   107  130]]\n"
     ]
    }
   ],
   "source": [
    "print(data[:3])"
   ]
  },
  {
   "cell_type": "markdown",
   "metadata": {},
   "source": [
    "# 解析glove.6B.100d，構建一個索引字典，將文字投射到對應的向量表示法"
   ]
  },
  {
   "cell_type": "code",
   "execution_count": 11,
   "metadata": {},
   "outputs": [
    {
     "name": "stdout",
     "output_type": "stream",
     "text": [
      "400000\n"
     ]
    }
   ],
   "source": [
    "glove_dir = r'D:\\Final\\code\\LAB\\keras\\glove_6B\\glove.6B'\n",
    "\n",
    "embeddings_index = {} #建立嵌入向量索引字典，儲存 字 : 向量\n",
    "f = open(os.path.join(glove_dir,'glove.6B.100d.txt'),encoding='UTF-8')\n",
    "for line in f:\n",
    "    values = line.split()\n",
    "    word = values[0]\n",
    "    coefs = np.asarray(values[1:],dtype='float32') #將座標轉換成 Numpy array\n",
    "    embeddings_index[word] = coefs\n",
    "    \n",
    "f.close()\n",
    "print(len(embeddings_index))"
   ]
  },
  {
   "cell_type": "code",
   "execution_count": 12,
   "metadata": {},
   "outputs": [
    {
     "name": "stdout",
     "output_type": "stream",
     "text": [
      "[-0.038194 -0.24487   0.72812  -0.39961   0.083172  0.043953 -0.39141\n",
      "  0.3344   -0.57545   0.087459  0.28787  -0.06731   0.30906  -0.26384\n",
      " -0.13231  -0.20757   0.33395  -0.33848  -0.31743  -0.48336   0.1464\n",
      " -0.37304   0.34577   0.052041  0.44946  -0.46971   0.02628  -0.54155\n",
      " -0.15518  -0.14107  -0.039722  0.28277   0.14393   0.23464  -0.31021\n",
      "  0.086173  0.20397   0.52624   0.17164  -0.082378 -0.71787  -0.41531\n",
      "  0.20335  -0.12763   0.41367   0.55187   0.57908  -0.33477  -0.36559\n",
      " -0.54857  -0.062892  0.26584   0.30205   0.99775  -0.80481  -3.0243\n",
      "  0.01254  -0.36942   2.2167    0.72201  -0.24978   0.92136   0.034514\n",
      "  0.46745   1.1079   -0.19358  -0.074575  0.23353  -0.052062 -0.22044\n",
      "  0.057162 -0.15806  -0.30798  -0.41625   0.37972   0.15006  -0.53212\n",
      " -0.2055   -1.2526    0.071624  0.70565   0.49744  -0.42063   0.26148\n",
      " -1.538    -0.30223  -0.073438 -0.28312   0.37104  -0.25217   0.016215\n",
      " -0.017099 -0.38984   0.87424  -0.72569  -0.51058  -0.52028  -0.1459\n",
      "  0.8278    0.27062 ]\n",
      "100\n"
     ]
    }
   ],
   "source": [
    "print(embeddings_index.get('the'))\n",
    "print(len(embeddings_index['the']))"
   ]
  },
  {
   "cell_type": "markdown",
   "metadata": {},
   "source": [
    "# 準備GloVe文字嵌入向量矩陣"
   ]
  },
  {
   "cell_type": "code",
   "execution_count": 13,
   "metadata": {},
   "outputs": [
    {
     "name": "stdout",
     "output_type": "stream",
     "text": [
      "(10000, 100)\n"
     ]
    }
   ],
   "source": [
    "embeddings_dim = 100\n",
    "embeddings_matrix = np.zeros((max_words,embeddings_dim))\n",
    "print(embeddings_matrix.shape)\n",
    "\n",
    "for word,i in word_index.items():\n",
    "    if i < max_words:\n",
    "        embeddings_vector = embeddings_index.get(word)\n",
    "        if embeddings_vector is not None :\n",
    "            embeddings_matrix[i] = embeddings_vector"
   ]
  },
  {
   "cell_type": "code",
   "execution_count": 14,
   "metadata": {},
   "outputs": [
    {
     "name": "stdout",
     "output_type": "stream",
     "text": [
      "[-0.038194   -0.24487001  0.72812003 -0.39961001  0.083172    0.043953\n",
      " -0.39140999  0.3344     -0.57545     0.087459    0.28786999 -0.06731\n",
      "  0.30906001 -0.26383999 -0.13231    -0.20757     0.33395001 -0.33848\n",
      " -0.31742999 -0.48335999  0.1464     -0.37303999  0.34577     0.052041\n",
      "  0.44946    -0.46970999  0.02628    -0.54154998 -0.15518001 -0.14106999\n",
      " -0.039722    0.28277001  0.14393     0.23464    -0.31020999  0.086173\n",
      "  0.20397     0.52623999  0.17163999 -0.082378   -0.71787    -0.41531\n",
      "  0.20334999 -0.12763     0.41367     0.55186999  0.57907999 -0.33476999\n",
      " -0.36559001 -0.54856998 -0.062892    0.26583999  0.30204999  0.99774998\n",
      " -0.80480999 -3.0243001   0.01254    -0.36941999  2.21670008  0.72201002\n",
      " -0.24978     0.92136002  0.034514    0.46744999  1.10790002 -0.19358\n",
      " -0.074575    0.23353    -0.052062   -0.22044     0.057162   -0.15806\n",
      " -0.30798    -0.41624999  0.37972     0.15006    -0.53211999 -0.20550001\n",
      " -1.25259995  0.071624    0.70564997  0.49744001 -0.42063001  0.26148\n",
      " -1.53799999 -0.30223    -0.073438   -0.28312001  0.37103999 -0.25217\n",
      "  0.016215   -0.017099   -0.38984001  0.87423998 -0.72569001 -0.51058\n",
      " -0.52028    -0.1459      0.82779998  0.27061999]\n"
     ]
    }
   ],
   "source": [
    "print(embeddings_matrix[1])"
   ]
  },
  {
   "cell_type": "code",
   "execution_count": 15,
   "metadata": {},
   "outputs": [
    {
     "name": "stdout",
     "output_type": "stream",
     "text": [
      "Model: \"sequential\"\n",
      "_________________________________________________________________\n",
      "Layer (type)                 Output Shape              Param #   \n",
      "=================================================================\n",
      "embedding (Embedding)        (None, 100, 100)          1000000   \n",
      "_________________________________________________________________\n",
      "flatten (Flatten)            (None, 10000)             0         \n",
      "_________________________________________________________________\n",
      "dense (Dense)                (None, 32)                320032    \n",
      "_________________________________________________________________\n",
      "dense_1 (Dense)              (None, 1)                 33        \n",
      "=================================================================\n",
      "Total params: 1,320,065\n",
      "Trainable params: 1,320,065\n",
      "Non-trainable params: 0\n",
      "_________________________________________________________________\n"
     ]
    }
   ],
   "source": [
    "model=keras.Sequential([\n",
    "    keras.layers.Embedding(max_words,embeddings_dim,input_length=maxlen), #(可能的token數, 嵌入向量維度, input_length)\n",
    "    keras.layers.Flatten(),\n",
    "    keras.layers.Dense(32,activation='relu'),\n",
    "    keras.layers.Dense(1,activation='sigmoid')\n",
    "])\n",
    "model.summary()"
   ]
  },
  {
   "cell_type": "code",
   "execution_count": 16,
   "metadata": {},
   "outputs": [
    {
     "name": "stdout",
     "output_type": "stream",
     "text": [
      "Train on 200 samples, validate on 1000 samples\n",
      "Epoch 1/10\n",
      "200/200 [==============================] - 2s 9ms/sample - loss: 0.6924 - acc: 0.5150 - val_loss: 0.6917 - val_acc: 0.5170\n",
      "Epoch 2/10\n",
      "200/200 [==============================] - 0s 1ms/sample - loss: 0.5041 - acc: 0.9700 - val_loss: 0.6965 - val_acc: 0.5030\n",
      "Epoch 3/10\n",
      "200/200 [==============================] - 0s 1ms/sample - loss: 0.2856 - acc: 0.9850 - val_loss: 0.7038 - val_acc: 0.5160\n",
      "Epoch 4/10\n",
      "200/200 [==============================] - 0s 1ms/sample - loss: 0.1304 - acc: 1.0000 - val_loss: 0.7170 - val_acc: 0.5190\n",
      "Epoch 5/10\n",
      "200/200 [==============================] - 0s 1ms/sample - loss: 0.0650 - acc: 1.0000 - val_loss: 0.7060 - val_acc: 0.5210\n",
      "Epoch 6/10\n",
      "200/200 [==============================] - 0s 1ms/sample - loss: 0.0330 - acc: 1.0000 - val_loss: 0.7091 - val_acc: 0.5280\n",
      "Epoch 7/10\n",
      "200/200 [==============================] - 0s 1ms/sample - loss: 0.0184 - acc: 1.0000 - val_loss: 0.7193 - val_acc: 0.5190\n",
      "Epoch 8/10\n",
      "200/200 [==============================] - 0s 1ms/sample - loss: 0.0105 - acc: 1.0000 - val_loss: 0.7191 - val_acc: 0.5280\n",
      "Epoch 9/10\n",
      "200/200 [==============================] - 0s 1ms/sample - loss: 0.0063 - acc: 1.0000 - val_loss: 0.7282 - val_acc: 0.5270\n",
      "Epoch 10/10\n",
      "200/200 [==============================] - 0s 1ms/sample - loss: 0.0038 - acc: 1.0000 - val_loss: 0.7369 - val_acc: 0.5240\n"
     ]
    }
   ],
   "source": [
    "model.compile(optimizer='rmsprop',\n",
    "              loss='binary_crossentropy',\n",
    "              metrics=['acc'])\n",
    "history = model.fit(x_train, y_train,\n",
    "                    epochs=10,\n",
    "                    batch_size=32,\n",
    "                    validation_data=(x_val, y_val))\n",
    "model.save_weights('pre_trained_glove_model.h5')"
   ]
  },
  {
   "cell_type": "code",
   "execution_count": 17,
   "metadata": {},
   "outputs": [
    {
     "data": {
      "image/png": "[encoded data removed]",
      "text/plain": [
       "<Figure size 432x288 with 1 Axes>"
      ]
     },
     "metadata": {
      "needs_background": "light"
     },
     "output_type": "display_data"
    },
    {
     "data": {
      "image/png": "[encoded data removed]",
      "text/plain": [
       "<Figure size 432x288 with 1 Axes>"
      ]
     },
     "metadata": {
      "needs_background": "light"
     },
     "output_type": "display_data"
    }
   ],
   "source": [
    "import matplotlib.pyplot as plt\n",
    "\n",
    "acc = history.history['acc']\n",
    "val_acc = history.history['val_acc']\n",
    "loss = history.history['loss']\n",
    "val_loss = history.history['val_loss']\n",
    "\n",
    "epochs = range(1, len(acc) + 1)\n",
    "\n",
    "plt.plot(epochs, acc, 'bo', label='Training acc')\n",
    "plt.plot(epochs, val_acc, 'b', label='Validation acc')\n",
    "plt.title('Training and validation accuracy')\n",
    "plt.legend()\n",
    "\n",
    "plt.figure()\n",
    "\n",
    "plt.plot(epochs, loss, 'bo', label='Training loss')\n",
    "plt.plot(epochs, val_loss, 'b', label='Validation loss')\n",
    "plt.title('Training and validation loss')\n",
    "plt.legend()\n",
    "\n",
    "plt.show()\n"
   ]
  },
  {
   "cell_type": "markdown",
   "metadata": {},
   "source": [
    "# 模型中載入GLOVE嵌入向量"
   ]
  },
  {
   "cell_type": "code",
   "execution_count": 18,
   "metadata": {},
   "outputs": [
    {
     "name": "stdout",
     "output_type": "stream",
     "text": [
      "Model: \"sequential_1\"\n",
      "_________________________________________________________________\n",
      "Layer (type)                 Output Shape              Param #   \n",
      "=================================================================\n",
      "embedding_1 (Embedding)      (None, 100, 100)          1000000   \n",
      "_________________________________________________________________\n",
      "flatten_1 (Flatten)          (None, 10000)             0         \n",
      "_________________________________________________________________\n",
      "dense_2 (Dense)              (None, 32)                320032    \n",
      "_________________________________________________________________\n",
      "dense_3 (Dense)              (None, 1)                 33        \n",
      "=================================================================\n",
      "Total params: 1,320,065\n",
      "Trainable params: 1,320,065\n",
      "Non-trainable params: 0\n",
      "_________________________________________________________________\n"
     ]
    }
   ],
   "source": [
    "model=keras.Sequential([\n",
    "    keras.layers.Embedding(max_words,embeddings_dim,input_length=maxlen), #(可能的token數, 嵌入向量維度, input_length)\n",
    "    keras.layers.Flatten(),\n",
    "    keras.layers.Dense(32,activation='relu'),\n",
    "    keras.layers.Dense(1,activation='sigmoid')\n",
    "])\n",
    "model.summary()"
   ]
  },
  {
   "cell_type": "code",
   "execution_count": 19,
   "metadata": {},
   "outputs": [],
   "source": [
    "model.layers[0].set_weights([embeddings_matrix]) # 嵌入向量層/設定權重/載入GloVe權重矩陣\n",
    "model.layers[0].trainable = False #凍結該層，避免更新"
   ]
  },
  {
   "cell_type": "code",
   "execution_count": 20,
   "metadata": {},
   "outputs": [
    {
     "name": "stdout",
     "output_type": "stream",
     "text": [
      "Train on 200 samples, validate on 1000 samples\n",
      "Epoch 1/10\n",
      "200/200 [==============================] - 1s 3ms/sample - loss: 1.6268 - acc: 0.5050 - val_loss: 0.6961 - val_acc: 0.5110\n",
      "Epoch 2/10\n",
      "200/200 [==============================] - 0s 793us/sample - loss: 0.5824 - acc: 0.6650 - val_loss: 0.9114 - val_acc: 0.5080\n",
      "Epoch 3/10\n",
      "200/200 [==============================] - 0s 798us/sample - loss: 0.5325 - acc: 0.7850 - val_loss: 1.5001 - val_acc: 0.4920\n",
      "Epoch 4/10\n",
      "200/200 [==============================] - 0s 783us/sample - loss: 0.4917 - acc: 0.7550 - val_loss: 0.8681 - val_acc: 0.5220\n",
      "Epoch 5/10\n",
      "200/200 [==============================] - 0s 768us/sample - loss: 0.2698 - acc: 0.9050 - val_loss: 0.7027 - val_acc: 0.5620\n",
      "Epoch 6/10\n",
      "200/200 [==============================] - 0s 750us/sample - loss: 0.1754 - acc: 0.9750 - val_loss: 1.6215 - val_acc: 0.4920\n",
      "Epoch 7/10\n",
      "200/200 [==============================] - 0s 753us/sample - loss: 0.2526 - acc: 0.9150 - val_loss: 0.7840 - val_acc: 0.5330\n",
      "Epoch 8/10\n",
      "200/200 [==============================] - 0s 738us/sample - loss: 0.0870 - acc: 1.0000 - val_loss: 0.7315 - val_acc: 0.5660\n",
      "Epoch 9/10\n",
      "200/200 [==============================] - 0s 753us/sample - loss: 0.0946 - acc: 0.9900 - val_loss: 1.3553 - val_acc: 0.4980\n",
      "Epoch 10/10\n",
      "200/200 [==============================] - 0s 803us/sample - loss: 0.0974 - acc: 0.9850 - val_loss: 0.7475 - val_acc: 0.5730\n"
     ]
    }
   ],
   "source": [
    "model.compile(optimizer='rmsprop',\n",
    "              loss='binary_crossentropy',\n",
    "              metrics=['acc'])\n",
    "history = model.fit(x_train, y_train,\n",
    "                    epochs=10,\n",
    "                    batch_size=32,\n",
    "                    validation_data=(x_val, y_val))"
   ]
  },
  {
   "cell_type": "code",
   "execution_count": 21,
   "metadata": {},
   "outputs": [
    {
     "data": {
      "image/png": "[encoded data removed]",
      "text/plain": [
       "<Figure size 432x288 with 1 Axes>"
      ]
     },
     "metadata": {
      "needs_background": "light"
     },
     "output_type": "display_data"
    },
    {
     "data": {
      "image/png": "[encoded data removed]",
      "text/plain": [
       "<Figure size 432x288 with 1 Axes>"
      ]
     },
     "metadata": {
      "needs_background": "light"
     },
     "output_type": "display_data"
    }
   ],
   "source": [
    "import matplotlib.pyplot as plt\n",
    "\n",
    "acc = history.history['acc']\n",
    "val_acc = history.history['val_acc']\n",
    "loss = history.history['loss']\n",
    "val_loss = history.history['val_loss']\n",
    "\n",
    "epochs = range(1, len(acc) + 1)\n",
    "\n",
    "plt.plot(epochs, acc, 'bo', label='Training acc')\n",
    "plt.plot(epochs, val_acc, 'b', label='Validation acc')\n",
    "plt.title('Training and validation accuracy')\n",
    "plt.legend()\n",
    "\n",
    "plt.figure()\n",
    "\n",
    "plt.plot(epochs, loss, 'bo', label='Training loss')\n",
    "plt.plot(epochs, val_loss, 'b', label='Validation loss')\n",
    "plt.title('Training and validation loss')\n",
    "plt.legend()\n",
    "\n",
    "plt.show()\n"
   ]
  },
  {
   "cell_type": "markdown",
   "metadata": {},
   "source": [
    "# 測試資料"
   ]
  },
  {
   "cell_type": "code",
   "execution_count": 22,
   "metadata": {},
   "outputs": [],
   "source": [
    "test_dir = os.path.join(imdb_dir,'test')\n",
    "labels=[]\n",
    "texts=[]\n",
    "\n",
    "for label_type in ['neg','pos']:\n",
    "    dir_name = os.path.join(test_dir,label_type)#開 neg or pos 資料夾\n",
    "    for fname in sorted(os.listdir(dir_name)):\n",
    "        if fname[-4:] == '.txt':\n",
    "            f = open(os.path.join(dir_name, fname), encoding='UTF-8')\n",
    "            texts.append(f.read())\n",
    "            f.close()\n",
    "            if label_type == 'neg':\n",
    "                labels.append(0)\n",
    "            else :\n",
    "                labels.append(1)\n",
    "\n",
    "sequences = tokenizer.texts_to_sequences(texts) #單字轉鍵值\n",
    "x_test = pad_sequences(sequences, maxlen=maxlen)#取後100個單字\n",
    "y_test = np.asarray(labels)#標籤向量化"
   ]
  },
  {
   "cell_type": "code",
   "execution_count": 23,
   "metadata": {},
   "outputs": [
    {
     "name": "stdout",
     "output_type": "stream",
     "text": [
      "25000/25000 [==============================] - 3s 101us/sample - loss: 0.7533 - acc: 0.5717\n"
     ]
    },
    {
     "data": {
      "text/plain": [
       "[0.7532812003326416, 0.57172]"
      ]
     },
     "execution_count": 23,
     "metadata": {},
     "output_type": "execute_result"
    }
   ],
   "source": [
    "model.evaluate(x_test,y_test)"
   ]
  },
  {
   "cell_type": "code",
   "execution_count": null,
   "metadata": {},
   "outputs": [],
   "source": []
  }
 ],
 "metadata": {
  "kernelspec": {
   "display_name": "Python (tensorflow-gpu)",
   "language": "python",
   "name": "tensorflow-gpu"
  },
  "language_info": {
   "codemirror_mode": {
    "name": "ipython",
    "version": 3
   },
   "file_extension": ".py",
   "mimetype": "text/x-python",
   "name": "python",
   "nbconvert_exporter": "python",
   "pygments_lexer": "ipython3",
   "version": "3.7.6"
  }
 },
 "nbformat": 4,
 "nbformat_minor": 4
}
