{
 "cells": [
  {
   "cell_type": "markdown",
   "metadata": {},
   "source": [
    "# SimpleRNN"
   ]
  },
  {
   "cell_type": "code",
   "execution_count": 1,
   "metadata": {},
   "outputs": [
    {
     "data": {
      "text/plain": [
       "'2.1.0'"
      ]
     },
     "execution_count": 1,
     "metadata": {},
     "output_type": "execute_result"
    }
   ],
   "source": [
    "import tensorflow as tf\n",
    "from tensorflow import keras\n",
    "\n",
    "tf.__version__"
   ]
  },
  {
   "cell_type": "code",
   "execution_count": 2,
   "metadata": {},
   "outputs": [
    {
     "name": "stderr",
     "output_type": "stream",
     "text": [
      "Using TensorFlow backend.\n"
     ]
    },
    {
     "name": "stdout",
     "output_type": "stream",
     "text": [
      "25000 train sequences\n",
      "25000 test sequences\n"
     ]
    }
   ],
   "source": [
    "from keras.datasets import imdb\n",
    "from keras.preprocessing import sequence\n",
    "\n",
    "max_features=10000\n",
    "maxlen=500\n",
    "bastch_size=32\n",
    "\n",
    "(input_train, y_train), (input_test, y_test) = imdb.load_data(num_words=max_features)\n",
    "print(len(input_train), 'train sequences') # 25000 筆訓練用序列資料 (評論)\n",
    "print(len(input_test), 'test sequences')# 25000 筆測試用序列資料"
   ]
  },
  {
   "cell_type": "code",
   "execution_count": 3,
   "metadata": {},
   "outputs": [
    {
     "name": "stdout",
     "output_type": "stream",
     "text": [
      "input_train shape: (25000, 500)\n",
      "input_test shape: (25000, 500)\n"
     ]
    }
   ],
   "source": [
    "input_train=sequence.pad_sequences(input_train,maxlen=maxlen)\n",
    "input_test=sequence.pad_sequences(input_test,maxlen=maxlen)\n",
    "print('input_train shape:', input_train.shape)\n",
    "print('input_test shape:', input_test.shape)"
   ]
  },
  {
   "cell_type": "code",
   "execution_count": 4,
   "metadata": {},
   "outputs": [
    {
     "name": "stdout",
     "output_type": "stream",
     "text": [
      "Model: \"sequential\"\n",
      "_________________________________________________________________\n",
      "Layer (type)                 Output Shape              Param #   \n",
      "=================================================================\n",
      "embedding (Embedding)        (None, None, 32)          320000    \n",
      "_________________________________________________________________\n",
      "simple_rnn (SimpleRNN)       (None, 32)                2080      \n",
      "_________________________________________________________________\n",
      "dense (Dense)                (None, 1)                 33        \n",
      "=================================================================\n",
      "Total params: 322,113\n",
      "Trainable params: 322,113\n",
      "Non-trainable params: 0\n",
      "_________________________________________________________________\n"
     ]
    }
   ],
   "source": [
    "model=keras.Sequential([\n",
    "    keras.layers.Embedding(max_features,32),#回傳3D浮點數向量\n",
    "    keras.layers.SimpleRNN(32),#RNN層處理3D向量\n",
    "    keras.layers.Dense(1,activation='sigmoid')\n",
    "])\n",
    "\n",
    "model.summary()\n",
    "model.compile(optimizer='rmsprop',\n",
    "             loss='binary_crossentropy',\n",
    "             metrics=['acc'])\n"
   ]
  },
  {
   "cell_type": "code",
   "execution_count": 5,
   "metadata": {},
   "outputs": [
    {
     "name": "stdout",
     "output_type": "stream",
     "text": [
      "Train on 20000 samples, validate on 5000 samples\n",
      "Epoch 1/10\n",
      "20000/20000 [==============================] - 55s 3ms/sample - loss: 0.6499 - acc: 0.6120 - val_loss: 0.5142 - val_acc: 0.7806\n",
      "Epoch 2/10\n",
      "20000/20000 [==============================] - 54s 3ms/sample - loss: 0.4166 - acc: 0.8242 - val_loss: 0.3788 - val_acc: 0.8424\n",
      "Epoch 3/10\n",
      "20000/20000 [==============================] - 55s 3ms/sample - loss: 0.2967 - acc: 0.8798 - val_loss: 0.3625 - val_acc: 0.8476\n",
      "Epoch 4/10\n",
      "20000/20000 [==============================] - 58s 3ms/sample - loss: 0.2320 - acc: 0.9099 - val_loss: 0.3816 - val_acc: 0.8438\n",
      "Epoch 5/10\n",
      "20000/20000 [==============================] - 59s 3ms/sample - loss: 0.1771 - acc: 0.9339 - val_loss: 0.3851 - val_acc: 0.8488\n",
      "Epoch 6/10\n",
      "20000/20000 [==============================] - 58s 3ms/sample - loss: 0.1288 - acc: 0.9538 - val_loss: 0.4934 - val_acc: 0.8210\n",
      "Epoch 7/10\n",
      "20000/20000 [==============================] - 64s 3ms/sample - loss: 0.0958 - acc: 0.9672 - val_loss: 0.4292 - val_acc: 0.8480\n",
      "Epoch 8/10\n",
      "20000/20000 [==============================] - 56s 3ms/sample - loss: 0.0727 - acc: 0.9769 - val_loss: 0.5250 - val_acc: 0.8254\n",
      "Epoch 9/10\n",
      "20000/20000 [==============================] - 57s 3ms/sample - loss: 0.0462 - acc: 0.9855 - val_loss: 0.5792 - val_acc: 0.8046\n",
      "Epoch 10/10\n",
      "20000/20000 [==============================] - 57s 3ms/sample - loss: 0.0255 - acc: 0.9929 - val_loss: 0.5721 - val_acc: 0.8370\n"
     ]
    }
   ],
   "source": [
    "history = model.fit(input_train,\n",
    "                   y_train,\n",
    "                   epochs=10,\n",
    "                   batch_size=128,\n",
    "                   validation_split=0.2)#從訓練集按比例抽出當作驗證集"
   ]
  },
  {
   "cell_type": "code",
   "execution_count": 6,
   "metadata": {},
   "outputs": [
    {
     "data": {
      "text/plain": [
       "[<matplotlib.lines.Line2D at 0x2a88f52f608>]"
      ]
     },
     "execution_count": 6,
     "metadata": {},
     "output_type": "execute_result"
    },
    {
     "data": {
      "image/png": "[encoded data removed]",
      "text/plain": [
       "<Figure size 432x288 with 1 Axes>"
      ]
     },
     "metadata": {
      "needs_background": "light"
     },
     "output_type": "display_data"
    }
   ],
   "source": [
    "import matplotlib.pyplot as plt\n",
    "\n",
    "acc = history.history['acc']\n",
    "val_acc = history.history['val_acc']\n",
    "loss = history.history['loss']\n",
    "val_loss = history.history['val_loss']\n",
    "\n",
    "epochs = range(1, len(acc) + 1)\n",
    "\n",
    "plt.plot(epochs, acc, 'bo', label='Training acc')\n",
    "plt.plot(epochs, val_acc, 'b', label='Validation acc')"
   ]
  },
  {
   "cell_type": "code",
   "execution_count": 7,
   "metadata": {},
   "outputs": [
    {
     "name": "stdout",
     "output_type": "stream",
     "text": [
      "25000/25000 [==============================] - 36s 1ms/sample - loss: 0.5977 - acc: 0.8281\n"
     ]
    },
    {
     "data": {
      "text/plain": [
       "[0.5976860547280312, 0.82812]"
      ]
     },
     "execution_count": 7,
     "metadata": {},
     "output_type": "execute_result"
    }
   ],
   "source": [
    "model.evaluate(input_test,y_test)"
   ]
  },
  {
   "cell_type": "markdown",
   "metadata": {},
   "source": [
    "# LSTM (Long Short-Term Memory)\n",
    "\n",
    "允許之後重新輸入過去的資訊，從而解決梯度消失的問題"
   ]
  },
  {
   "cell_type": "code",
   "execution_count": 8,
   "metadata": {},
   "outputs": [
    {
     "name": "stdout",
     "output_type": "stream",
     "text": [
      "Model: \"sequential_1\"\n",
      "_________________________________________________________________\n",
      "Layer (type)                 Output Shape              Param #   \n",
      "=================================================================\n",
      "embedding_1 (Embedding)      (None, None, 32)          320000    \n",
      "_________________________________________________________________\n",
      "lstm (LSTM)                  (None, 32)                8320      \n",
      "_________________________________________________________________\n",
      "dense_1 (Dense)              (None, 1)                 33        \n",
      "=================================================================\n",
      "Total params: 328,353\n",
      "Trainable params: 328,353\n",
      "Non-trainable params: 0\n",
      "_________________________________________________________________\n"
     ]
    }
   ],
   "source": [
    "model2=keras.Sequential([\n",
    "    keras.layers.Embedding(max_features,32),\n",
    "    keras.layers.LSTM(32),\n",
    "    keras.layers.Dense(1,activation='sigmoid')\n",
    "])\n",
    "\n",
    "model2.summary()\n",
    "model2.compile(optimizer='rmsprop',\n",
    "              loss='binary_crossentropy',\n",
    "              metrics=['acc'])"
   ]
  },
  {
   "cell_type": "code",
   "execution_count": 9,
   "metadata": {},
   "outputs": [
    {
     "name": "stdout",
     "output_type": "stream",
     "text": [
      "Train on 20000 samples, validate on 5000 samples\n",
      "Epoch 1/10\n",
      "20000/20000 [==============================] - 11s 557us/sample - loss: 0.5123 - acc: 0.7570 - val_loss: 0.3426 - val_acc: 0.8626\n",
      "Epoch 2/10\n",
      "20000/20000 [==============================] - 8s 405us/sample - loss: 0.3004 - acc: 0.8823 - val_loss: 0.4849 - val_acc: 0.8234\n",
      "Epoch 3/10\n",
      "20000/20000 [==============================] - 8s 417us/sample - loss: 0.2373 - acc: 0.9106 - val_loss: 0.3258 - val_acc: 0.8780\n",
      "Epoch 4/10\n",
      "20000/20000 [==============================] - 8s 401us/sample - loss: 0.2008 - acc: 0.9247 - val_loss: 0.2821 - val_acc: 0.8814\n",
      "Epoch 5/10\n",
      "20000/20000 [==============================] - 8s 417us/sample - loss: 0.1807 - acc: 0.9339 - val_loss: 0.3123 - val_acc: 0.8638\n",
      "Epoch 6/10\n",
      "20000/20000 [==============================] - 8s 420us/sample - loss: 0.1576 - acc: 0.9438 - val_loss: 0.3120 - val_acc: 0.8850\n",
      "Epoch 7/10\n",
      "20000/20000 [==============================] - 8s 409us/sample - loss: 0.1405 - acc: 0.9507 - val_loss: 0.3457 - val_acc: 0.8914\n",
      "Epoch 8/10\n",
      "20000/20000 [==============================] - 8s 417us/sample - loss: 0.1285 - acc: 0.9553 - val_loss: 0.3425 - val_acc: 0.8690\n",
      "Epoch 9/10\n",
      "20000/20000 [==============================] - 9s 427us/sample - loss: 0.1171 - acc: 0.9592 - val_loss: 0.4677 - val_acc: 0.8636\n",
      "Epoch 10/10\n",
      "20000/20000 [==============================] - 8s 405us/sample - loss: 0.1106 - acc: 0.9636 - val_loss: 0.4441 - val_acc: 0.8686\n"
     ]
    }
   ],
   "source": [
    "history2 = model2.fit(input_train,\n",
    "                     y_train,\n",
    "                     epochs=10,\n",
    "                     batch_size=128,\n",
    "                     validation_split=0.2)"
   ]
  },
  {
   "cell_type": "code",
   "execution_count": 10,
   "metadata": {},
   "outputs": [
    {
     "name": "stdout",
     "output_type": "stream",
     "text": [
      "25000/25000 [==============================] - 11s 435us/sample - loss: 0.4819 - acc: 0.8545\n"
     ]
    },
    {
     "data": {
      "text/plain": [
       "[0.4819309673833847, 0.85452]"
      ]
     },
     "execution_count": 10,
     "metadata": {},
     "output_type": "execute_result"
    }
   ],
   "source": [
    "model2.evaluate(input_test,y_test)"
   ]
  },
  {
   "cell_type": "markdown",
   "metadata": {},
   "source": [
    "# 雙向LSTM"
   ]
  },
  {
   "cell_type": "code",
   "execution_count": 16,
   "metadata": {},
   "outputs": [
    {
     "name": "stdout",
     "output_type": "stream",
     "text": [
      "Model: \"sequential_3\"\n",
      "_________________________________________________________________\n",
      "Layer (type)                 Output Shape              Param #   \n",
      "=================================================================\n",
      "embedding_3 (Embedding)      (None, None, 32)          320000    \n",
      "_________________________________________________________________\n",
      "bidirectional (Bidirectional (None, 64)                16640     \n",
      "_________________________________________________________________\n",
      "dense_3 (Dense)              (None, 1)                 65        \n",
      "=================================================================\n",
      "Total params: 336,705\n",
      "Trainable params: 336,705\n",
      "Non-trainable params: 0\n",
      "_________________________________________________________________\n",
      "Train on 20000 samples, validate on 5000 samples\n",
      "Epoch 1/10\n",
      "20000/20000 [==============================] - 14s 710us/sample - loss: 0.5065 - acc: 0.7563 - val_loss: 0.7131 - val_acc: 0.6992\n",
      "Epoch 2/10\n",
      "20000/20000 [==============================] - 12s 587us/sample - loss: 0.2995 - acc: 0.8850 - val_loss: 0.3830 - val_acc: 0.8636\n",
      "Epoch 3/10\n",
      "20000/20000 [==============================] - 12s 579us/sample - loss: 0.2358 - acc: 0.9122 - val_loss: 0.2949 - val_acc: 0.8892\n",
      "Epoch 4/10\n",
      "20000/20000 [==============================] - 12s 578us/sample - loss: 0.2026 - acc: 0.9233 - val_loss: 0.3035 - val_acc: 0.8866\n",
      "Epoch 5/10\n",
      "20000/20000 [==============================] - 12s 578us/sample - loss: 0.1716 - acc: 0.9377 - val_loss: 0.3260 - val_acc: 0.8794\n",
      "Epoch 6/10\n",
      "20000/20000 [==============================] - 12s 579us/sample - loss: 0.1571 - acc: 0.9430 - val_loss: 0.3279 - val_acc: 0.8738\n",
      "Epoch 7/10\n",
      "20000/20000 [==============================] - 12s 580us/sample - loss: 0.1421 - acc: 0.9500 - val_loss: 0.3721 - val_acc: 0.8694\n",
      "Epoch 8/10\n",
      "20000/20000 [==============================] - 12s 581us/sample - loss: 0.1276 - acc: 0.9567 - val_loss: 0.3401 - val_acc: 0.8890\n",
      "Epoch 9/10\n",
      "20000/20000 [==============================] - 12s 584us/sample - loss: 0.1156 - acc: 0.9600 - val_loss: 0.4133 - val_acc: 0.8518\n",
      "Epoch 10/10\n",
      "20000/20000 [==============================] - 12s 582us/sample - loss: 0.1097 - acc: 0.9618 - val_loss: 0.5197 - val_acc: 0.8648\n"
     ]
    },
    {
     "data": {
      "text/plain": [
       "<tensorflow.python.keras.callbacks.History at 0x2a9ac7125c8>"
      ]
     },
     "execution_count": 16,
     "metadata": {},
     "output_type": "execute_result"
    }
   ],
   "source": [
    "model3=keras.Sequential([\n",
    "    keras.layers.Embedding(max_features,32),\n",
    "    keras.layers.Bidirectional(keras.layers.LSTM(32)),\n",
    "    keras.layers.Dense(1,activation='sigmoid')\n",
    "])\n",
    "model3.summary()\n",
    "\n",
    "model3.compile(optimizer='rmsprop',\n",
    "              loss='binary_crossentropy',\n",
    "              metrics=['acc'])\n",
    "model3.fit(input_train,\n",
    "          y_train,\n",
    "          epochs=10,\n",
    "          batch_size=128,\n",
    "          validation_split=0.2)"
   ]
  },
  {
   "cell_type": "code",
   "execution_count": 17,
   "metadata": {},
   "outputs": [
    {
     "name": "stdout",
     "output_type": "stream",
     "text": [
      "25000/25000 [==============================] - 17s 669us/sample - loss: 0.5438 - acc: 0.8529\n"
     ]
    },
    {
     "data": {
      "text/plain": [
       "[0.5438360992741584, 0.85288]"
      ]
     },
     "execution_count": 17,
     "metadata": {},
     "output_type": "execute_result"
    }
   ],
   "source": [
    "model3.evaluate(input_test,y_test)"
   ]
  }
 ],
 "metadata": {
  "kernelspec": {
   "display_name": "Python (tensorflow-gpu)",
   "language": "python",
   "name": "tensorflow-gpu"
  },
  "language_info": {
   "codemirror_mode": {
    "name": "ipython",
    "version": 3
   },
   "file_extension": ".py",
   "mimetype": "text/x-python",
   "name": "python",
   "nbconvert_exporter": "python",
   "pygments_lexer": "ipython3",
   "version": "3.7.6"
  }
 },
 "nbformat": 4,
 "nbformat_minor": 4
}
