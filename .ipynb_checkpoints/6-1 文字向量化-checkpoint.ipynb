{
 "cells": [
  {
   "cell_type": "markdown",
   "metadata": {},
   "source": [
    "# 用keras做文字的one-hot encoding"
   ]
  },
  {
   "cell_type": "code",
   "execution_count": 2,
   "metadata": {},
   "outputs": [
    {
     "data": {
      "text/plain": [
       "'2.1.0'"
      ]
     },
     "execution_count": 2,
     "metadata": {},
     "output_type": "execute_result"
    }
   ],
   "source": [
    "import tensorflow as tf\n",
    "from tensorflow import keras\n",
    "\n",
    "tf.__version__"
   ]
  },
  {
   "cell_type": "code",
   "execution_count": 4,
   "metadata": {},
   "outputs": [
    {
     "name": "stdout",
     "output_type": "stream",
     "text": [
      "[[1, 3, 4, 2, 1, 5], [1, 6, 7, 8, 9], [1, 10, 11, 2, 1, 12]]\n"
     ]
    }
   ],
   "source": [
    "from keras.preprocessing.text import Tokenizer\n",
    "\n",
    "sample = ['The cat sat on the mat.', 'The dog ate my homework', 'The bitch yelled on the street']\n",
    "\n",
    "tokenizer = Tokenizer(num_words=1000)#處理前1000個最常用單字\n",
    "tokenizer.fit_on_texts(sample)#建立字典，依頻率決定順序，0不使用要保留\n",
    "sequences = tokenizer.texts_to_sequences(sample)#把單字轉換成鍵值\n",
    "\n",
    "print(sequences)"
   ]
  },
  {
   "cell_type": "code",
   "execution_count": 7,
   "metadata": {},
   "outputs": [
    {
     "name": "stdout",
     "output_type": "stream",
     "text": [
      "(3, 1000)\n",
      "[0. 1. 1. 1. 1. 1. 0. 0. 0. 0. 0. 0. 0. 0. 0.]\n",
      "[0. 1. 0. 0. 0. 0. 1. 1. 1. 1. 0. 0. 0. 0. 0.]\n",
      "[0. 1. 1. 0. 0. 0. 0. 0. 0. 0. 1. 1. 1. 0. 0.]\n"
     ]
    }
   ],
   "source": [
    "one_hot_result=tokenizer.texts_to_matrix(sample,mode='binary') #向量化\n",
    "\n",
    "print(one_hot_result.shape)\n",
    "print(one_hot_result[0][:15])\n",
    "print(one_hot_result[1][:15])\n",
    "print(one_hot_result[2][:15])"
   ]
  },
  {
   "cell_type": "markdown",
   "metadata": {},
   "source": [
    "# 用keras的Embeding Layer實作文字嵌入法"
   ]
  },
  {
   "cell_type": "code",
   "execution_count": 8,
   "metadata": {},
   "outputs": [],
   "source": [
    "embeding_layer = keras.layers.Embedding(1000,64) #最多1000字，輸出的嵌入向量維數64"
   ]
  },
  {
   "cell_type": "code",
   "execution_count": 13,
   "metadata": {},
   "outputs": [
    {
     "name": "stdout",
     "output_type": "stream",
     "text": [
      "(25000,)\n",
      "(25000, 20)\n",
      "[ 65  16  38   2  88  12  16 283   5  16   2 113 103  32  15  16   2  19\n",
      " 178  32]\n"
     ]
    }
   ],
   "source": [
    "from keras.datasets import imdb\n",
    "from keras import preprocessing\n",
    "\n",
    "max_features = 1000 #最常用文字數量\n",
    "maxlen = 20 #文章最後的20字\n",
    "\n",
    "(x_train, y_train), (x_test, y_test) = imdb.load_data(num_words=max_features)\n",
    "print(x_train.shape)\n",
    "x_train = preprocessing.sequence.pad_sequences(x_train, maxlen=maxlen)  # ←將整數 lists 轉換為 2D 整數張量, 形狀為(樣本數 samples, 最大長度 maxlen)\n",
    "print(x_train.shape)\n",
    "print(x_train[0])\n",
    "x_test = preprocessing.sequence.pad_sequences(x_test, maxlen=maxlen)"
   ]
  },
  {
   "cell_type": "code",
   "execution_count": 14,
   "metadata": {},
   "outputs": [
    {
     "name": "stdout",
     "output_type": "stream",
     "text": [
      "Model: \"sequential\"\n",
      "_________________________________________________________________\n",
      "Layer (type)                 Output Shape              Param #   \n",
      "=================================================================\n",
      "embedding_1 (Embedding)      (None, 20, 8)             8000      \n",
      "_________________________________________________________________\n",
      "flatten (Flatten)            (None, 160)               0         \n",
      "_________________________________________________________________\n",
      "dense (Dense)                (None, 1)                 161       \n",
      "=================================================================\n",
      "Total params: 8,161\n",
      "Trainable params: 8,161\n",
      "Non-trainable params: 0\n",
      "_________________________________________________________________\n",
      "Train on 20000 samples, validate on 5000 samples\n",
      "Epoch 1/10\n",
      "20000/20000 [==============================] - 4s 206us/sample - loss: 0.6783 - acc: 0.5923 - val_loss: 0.6382 - val_acc: 0.6766\n",
      "Epoch 2/10\n",
      "20000/20000 [==============================] - 3s 128us/sample - loss: 0.5716 - acc: 0.7227 - val_loss: 0.5486 - val_acc: 0.7150\n",
      "Epoch 3/10\n",
      "20000/20000 [==============================] - 3s 130us/sample - loss: 0.5090 - acc: 0.7499 - val_loss: 0.5288 - val_acc: 0.7306\n",
      "Epoch 4/10\n",
      "20000/20000 [==============================] - 3s 135us/sample - loss: 0.4889 - acc: 0.7602 - val_loss: 0.5261 - val_acc: 0.7324\n",
      "Epoch 5/10\n",
      "20000/20000 [==============================] - 3s 128us/sample - loss: 0.4790 - acc: 0.7670 - val_loss: 0.5262 - val_acc: 0.7346\n",
      "Epoch 6/10\n",
      "20000/20000 [==============================] - 3s 129us/sample - loss: 0.4710 - acc: 0.7717 - val_loss: 0.5298 - val_acc: 0.7332\n",
      "Epoch 7/10\n",
      "20000/20000 [==============================] - 3s 130us/sample - loss: 0.4632 - acc: 0.7774 - val_loss: 0.5289 - val_acc: 0.7328\n",
      "Epoch 8/10\n",
      "20000/20000 [==============================] - 3s 130us/sample - loss: 0.4552 - acc: 0.7835 - val_loss: 0.5317 - val_acc: 0.7312\n",
      "Epoch 9/10\n",
      "20000/20000 [==============================] - 3s 130us/sample - loss: 0.4473 - acc: 0.7908 - val_loss: 0.5357 - val_acc: 0.7328\n",
      "Epoch 10/10\n",
      "20000/20000 [==============================] - 3s 131us/sample - loss: 0.4389 - acc: 0.7945 - val_loss: 0.5381 - val_acc: 0.7342\n"
     ]
    }
   ],
   "source": [
    "model=keras.Sequential([\n",
    "    keras.layers.Embedding(1000,8,input_length=maxlen),\n",
    "    keras.layers.Flatten(),\n",
    "    keras.layers.Dense(1,activation='sigmoid')\n",
    "])\n",
    "\n",
    "model.compile(optimizer='rmsprop', loss='binary_crossentropy', metrics=['acc'])\n",
    "model.summary()\n",
    "\n",
    "history = model.fit(x_train, \n",
    "                    y_train,\n",
    "                    epochs=10,\n",
    "                    batch_size=32,\n",
    "                    validation_split=0.2)"
   ]
  },
  {
   "cell_type": "markdown",
   "metadata": {},
   "source": [
    "## 這種Embedding不考慮文字順序和句子結構"
   ]
  },
  {
   "cell_type": "code",
   "execution_count": null,
   "metadata": {},
   "outputs": [],
   "source": []
  }
 ],
 "metadata": {
  "kernelspec": {
   "display_name": "Python (tensorflow-gpu)",
   "language": "python",
   "name": "tensorflow-gpu"
  },
  "language_info": {
   "codemirror_mode": {
    "name": "ipython",
    "version": 3
   },
   "file_extension": ".py",
   "mimetype": "text/x-python",
   "name": "python",
   "nbconvert_exporter": "python",
   "pygments_lexer": "ipython3",
   "version": "3.7.6"
  }
 },
 "nbformat": 4,
 "nbformat_minor": 4
}
