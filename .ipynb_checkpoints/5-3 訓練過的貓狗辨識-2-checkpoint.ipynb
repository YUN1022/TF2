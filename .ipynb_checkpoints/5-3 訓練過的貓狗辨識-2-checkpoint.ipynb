{
 "cells": [
  {
   "cell_type": "markdown",
   "metadata": {},
   "source": [
    "# 特徵萃取其二\n",
    "\n",
    "    在最後端增加Dense layers來擴展model(conv_base)，並輸入資料，從頭開始整個處理過程。\n",
    "    可以進行資料擴增，但是技術成本較高"
   ]
  },
  {
   "cell_type": "code",
   "execution_count": 1,
   "metadata": {},
   "outputs": [
    {
     "data": {
      "text/plain": [
       "'2.1.0'"
      ]
     },
     "execution_count": 1,
     "metadata": {},
     "output_type": "execute_result"
    }
   ],
   "source": [
    "import tensorflow as tf\n",
    "from tensorflow import keras\n",
    "\n",
    "tf.__version__"
   ]
  },
  {
   "cell_type": "code",
   "execution_count": 2,
   "metadata": {},
   "outputs": [],
   "source": [
    "from tensorflow.keras.applications import VGG16\n",
    "conv_base=VGG16(weights='imagenet',\n",
    "               include_top=False, #不包含密集連接分類器\n",
    "               input_shape=(150, 150, 3))"
   ]
  },
  {
   "cell_type": "code",
   "execution_count": 5,
   "metadata": {},
   "outputs": [
    {
     "name": "stdout",
     "output_type": "stream",
     "text": [
      "Model: \"sequential_1\"\n",
      "_________________________________________________________________\n",
      "Layer (type)                 Output Shape              Param #   \n",
      "=================================================================\n",
      "vgg16 (Model)                (None, 4, 4, 512)         14714688  \n",
      "_________________________________________________________________\n",
      "flatten (Flatten)            (None, 8192)              0         \n",
      "_________________________________________________________________\n",
      "dense (Dense)                (None, 256)               2097408   \n",
      "_________________________________________________________________\n",
      "dense_1 (Dense)              (None, 1)                 257       \n",
      "=================================================================\n",
      "Total params: 16,812,353\n",
      "Trainable params: 16,812,353\n",
      "Non-trainable params: 0\n",
      "_________________________________________________________________\n"
     ]
    }
   ],
   "source": [
    "model = keras.Sequential()\n",
    "model.add(conv_base)\n",
    "model.add(keras.layers.Flatten())\n",
    "model.add(keras.layers.Dense(256,activation='relu'))\n",
    "model.add(keras.layers.Dense(1,activation='sigmoid'))\n",
    "\n",
    "model.summary()"
   ]
  },
  {
   "cell_type": "markdown",
   "metadata": {},
   "source": [
    "# 凍結捲積基底\n",
    "    凍結(freeze)表示訓練期間禁止更新權重"
   ]
  },
  {
   "cell_type": "code",
   "execution_count": 6,
   "metadata": {},
   "outputs": [
    {
     "name": "stdout",
     "output_type": "stream",
     "text": [
      "This is the number of trainable weights before freezing the conv base: 30\n",
      "This is the number of trainable weights after freezing the conv base: 4\n"
     ]
    }
   ],
   "source": [
    "print('This is the number of trainable weights '\n",
    "'before freezing the conv base:', len(model.trainable_weights))\n",
    "\n",
    "conv_base.trainable = False  \n",
    "\n",
    "print('This is the number of trainable weights '\n",
    "'after freezing the conv base:', len(model.trainable_weights))\n"
   ]
  },
  {
   "cell_type": "code",
   "execution_count": 8,
   "metadata": {},
   "outputs": [
    {
     "name": "stdout",
     "output_type": "stream",
     "text": [
      "Found 2000 images belonging to 2 classes.\n",
      "Found 1000 images belonging to 2 classes.\n",
      "WARNING:tensorflow:From <ipython-input-8-2bfc5b7278db>:45: Model.fit_generator (from tensorflow.python.keras.engine.training) is deprecated and will be removed in a future version.\n",
      "Instructions for updating:\n",
      "Please use Model.fit, which supports generators.\n",
      "WARNING:tensorflow:sample_weight modes were coerced from\n",
      "  ...\n",
      "    to  \n",
      "  ['...']\n",
      "WARNING:tensorflow:sample_weight modes were coerced from\n",
      "  ...\n",
      "    to  \n",
      "  ['...']\n",
      "Train for 100 steps, validate for 50 steps\n",
      "Epoch 1/30\n",
      "100/100 [==============================] - 56s 558ms/step - loss: 0.5896 - acc: 0.6820 - val_loss: 0.4430 - val_acc: 0.8350\n",
      "Epoch 2/30\n",
      "100/100 [==============================] - 33s 326ms/step - loss: 0.4866 - acc: 0.7845 - val_loss: 0.3615 - val_acc: 0.8730\n",
      "Epoch 3/30\n",
      "100/100 [==============================] - 32s 324ms/step - loss: 0.4297 - acc: 0.8155 - val_loss: 0.3269 - val_acc: 0.8820\n",
      "Epoch 4/30\n",
      "100/100 [==============================] - 32s 325ms/step - loss: 0.4091 - acc: 0.8220 - val_loss: 0.3066 - val_acc: 0.8700\n",
      "Epoch 5/30\n",
      "100/100 [==============================] - 32s 324ms/step - loss: 0.3869 - acc: 0.8175 - val_loss: 0.2868 - val_acc: 0.8890\n",
      "Epoch 6/30\n",
      "100/100 [==============================] - 32s 324ms/step - loss: 0.3715 - acc: 0.8365 - val_loss: 0.2945 - val_acc: 0.8830\n",
      "Epoch 7/30\n",
      "100/100 [==============================] - 33s 333ms/step - loss: 0.3553 - acc: 0.8445 - val_loss: 0.2781 - val_acc: 0.8790\n",
      "Epoch 8/30\n",
      "100/100 [==============================] - 34s 336ms/step - loss: 0.3449 - acc: 0.8465 - val_loss: 0.2609 - val_acc: 0.9010\n",
      "Epoch 9/30\n",
      "100/100 [==============================] - 33s 329ms/step - loss: 0.3303 - acc: 0.8650 - val_loss: 0.2568 - val_acc: 0.9000\n",
      "Epoch 10/30\n",
      "100/100 [==============================] - 34s 336ms/step - loss: 0.3366 - acc: 0.8485 - val_loss: 0.2613 - val_acc: 0.8910\n",
      "Epoch 11/30\n",
      "100/100 [==============================] - 32s 325ms/step - loss: 0.3205 - acc: 0.8610 - val_loss: 0.2531 - val_acc: 0.8950\n",
      "Epoch 12/30\n",
      "100/100 [==============================] - 33s 326ms/step - loss: 0.3133 - acc: 0.8615 - val_loss: 0.2484 - val_acc: 0.9000\n",
      "Epoch 13/30\n",
      "100/100 [==============================] - 33s 329ms/step - loss: 0.3280 - acc: 0.8570 - val_loss: 0.2442 - val_acc: 0.9030\n",
      "Epoch 14/30\n",
      "100/100 [==============================] - 33s 326ms/step - loss: 0.3119 - acc: 0.8615 - val_loss: 0.2464 - val_acc: 0.9040\n",
      "Epoch 15/30\n",
      "100/100 [==============================] - 33s 327ms/step - loss: 0.3094 - acc: 0.8620 - val_loss: 0.2422 - val_acc: 0.9050\n",
      "Epoch 16/30\n",
      "100/100 [==============================] - 33s 329ms/step - loss: 0.3119 - acc: 0.8690 - val_loss: 0.2615 - val_acc: 0.8840\n",
      "Epoch 17/30\n",
      "100/100 [==============================] - 33s 330ms/step - loss: 0.3000 - acc: 0.8715 - val_loss: 0.2478 - val_acc: 0.9010\n",
      "Epoch 18/30\n",
      "100/100 [==============================] - 35s 350ms/step - loss: 0.3074 - acc: 0.8610 - val_loss: 0.2467 - val_acc: 0.9060\n",
      "Epoch 19/30\n",
      "100/100 [==============================] - 33s 333ms/step - loss: 0.2949 - acc: 0.8740 - val_loss: 0.2431 - val_acc: 0.9050\n",
      "Epoch 20/30\n",
      "100/100 [==============================] - 33s 331ms/step - loss: 0.3054 - acc: 0.8680 - val_loss: 0.2381 - val_acc: 0.9080\n",
      "Epoch 21/30\n",
      "100/100 [==============================] - 33s 331ms/step - loss: 0.2900 - acc: 0.8755 - val_loss: 0.2362 - val_acc: 0.9080\n",
      "Epoch 22/30\n",
      "100/100 [==============================] - 33s 331ms/step - loss: 0.2889 - acc: 0.8780 - val_loss: 0.2405 - val_acc: 0.9040\n",
      "Epoch 23/30\n",
      "100/100 [==============================] - 33s 331ms/step - loss: 0.2931 - acc: 0.8655 - val_loss: 0.2379 - val_acc: 0.9040\n",
      "Epoch 24/30\n",
      "100/100 [==============================] - 33s 333ms/step - loss: 0.2872 - acc: 0.8695 - val_loss: 0.2492 - val_acc: 0.8980\n",
      "Epoch 25/30\n",
      "100/100 [==============================] - 34s 337ms/step - loss: 0.2859 - acc: 0.8770 - val_loss: 0.2393 - val_acc: 0.9070\n",
      "Epoch 26/30\n",
      "100/100 [==============================] - 33s 330ms/step - loss: 0.2772 - acc: 0.8715 - val_loss: 0.2458 - val_acc: 0.9030\n",
      "Epoch 27/30\n",
      "100/100 [==============================] - 33s 331ms/step - loss: 0.2972 - acc: 0.8645 - val_loss: 0.2505 - val_acc: 0.8940\n",
      "Epoch 28/30\n",
      "100/100 [==============================] - 33s 329ms/step - loss: 0.2935 - acc: 0.8675 - val_loss: 0.2485 - val_acc: 0.8950\n",
      "Epoch 29/30\n",
      "100/100 [==============================] - 33s 334ms/step - loss: 0.2768 - acc: 0.8850 - val_loss: 0.2424 - val_acc: 0.9010\n",
      "Epoch 30/30\n",
      "100/100 [==============================] - 34s 342ms/step - loss: 0.3070 - acc: 0.8730 - val_loss: 0.2463 - val_acc: 0.9060\n"
     ]
    }
   ],
   "source": [
    "from tensorflow.keras.preprocessing.image import ImageDataGenerator\n",
    "from tensorflow.keras import optimizers\n",
    "import os\n",
    "import numpy as np\n",
    "\n",
    "base_dir = r'D:\\Final\\code\\LAB\\keras\\dogs-vs-cats\\cats_and_dogs_small' \n",
    "train_dir = os.path.join(base_dir, 'train')\n",
    "validation_dir = os.path.join(base_dir, 'validation')\n",
    "test_dir = os.path.join(base_dir, 'test')\n",
    "\n",
    "train_datagen = ImageDataGenerator( # 擴充訓練資料\n",
    "\trescale=1./255,\n",
    "\trotation_range=40,\n",
    "\twidth_shift_range=0.2,\n",
    "\theight_shift_range=0.2,\n",
    "\tshear_range=0.2,\n",
    "\tzoom_range=0.2,\n",
    "\thorizontal_flip=True,\n",
    "\tfill_mode='nearest')\n",
    "\n",
    "test_datagen = ImageDataGenerator(rescale=1./255) # 請注意驗證資料不應該擴充\n",
    "\n",
    "\n",
    "train_generator = train_datagen.flow_from_directory(\n",
    "\ttrain_dir, # 目標目錄路徑\n",
    "\ttarget_size=(150, 150), # 調整所有圖像大小成 150×150 \n",
    "\tbatch_size=20,\n",
    "\tclass_mode='binary') # 因為使用二元交叉熵 binary_crossentropy 作為損失分數，所\t\t\t\t\t\t以需要二元標籤\n",
    "\n",
    "validation_generator = test_datagen.flow_from_directory(\n",
    "\tvalidation_dir,\n",
    "\ttarget_size=(150, 150),\n",
    "\tbatch_size=20,\n",
    "\tclass_mode='binary')\n",
    "\n",
    "model.compile( loss='binary_crossentropy',\n",
    "\t\t\t optimizer=optimizers.RMSprop(lr=2e-5),\n",
    "\t\t\t metrics=['acc'])\n",
    "\n",
    "history = model.fit_generator(\n",
    "\ttrain_generator,\n",
    "\tsteps_per_epoch=100,\n",
    "\tepochs=30,\n",
    "\tvalidation_data=validation_generator,\n",
    "\tvalidation_steps=50)"
   ]
  },
  {
   "cell_type": "code",
   "execution_count": 9,
   "metadata": {},
   "outputs": [
    {
     "data": {
      "image/png": "[encoded data removed]",
      "text/plain": [
       "<Figure size 432x288 with 1 Axes>"
      ]
     },
     "metadata": {
      "needs_background": "light"
     },
     "output_type": "display_data"
    },
    {
     "data": {
      "image/png": "[encoded data removed]",
      "text/plain": [
       "<Figure size 432x288 with 1 Axes>"
      ]
     },
     "metadata": {
      "needs_background": "light"
     },
     "output_type": "display_data"
    }
   ],
   "source": [
    "import matplotlib.pyplot as plt\n",
    "\n",
    "acc = history.history['acc']\n",
    "val_acc = history.history['val_acc']\n",
    "loss = history.history['loss']\n",
    "val_loss = history.history['val_loss']\n",
    "\n",
    "epochs = range(1, len(acc) + 1)\n",
    "\n",
    "plt.plot(epochs, acc, 'bo', label='Training acc')\n",
    "plt.plot(epochs, val_acc, 'b', label='Validation acc')\n",
    "plt.title('Training and validation accuracy')\n",
    "plt.legend()\n",
    "\n",
    "plt.figure()\n",
    "\n",
    "plt.plot(epochs, loss, 'bo', label='Training loss')\n",
    "plt.plot(epochs, val_loss, 'b', label='Validation loss')\n",
    "plt.title('Training and validation loss')\n",
    "plt.legend()\n",
    "plt.show()"
   ]
  },
  {
   "cell_type": "code",
   "execution_count": null,
   "metadata": {},
   "outputs": [],
   "source": []
  }
 ],
 "metadata": {
  "kernelspec": {
   "display_name": "Python (tensorflow-gpu)",
   "language": "python",
   "name": "tensorflow-gpu"
  },
  "language_info": {
   "codemirror_mode": {
    "name": "ipython",
    "version": 3
   },
   "file_extension": ".py",
   "mimetype": "text/x-python",
   "name": "python",
   "nbconvert_exporter": "python",
   "pygments_lexer": "ipython3",
   "version": "3.7.6"
  }
 },
 "nbformat": 4,
 "nbformat_minor": 4
}
